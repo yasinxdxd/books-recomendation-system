{
  "cells": [
    {
      "cell_type": "markdown",
      "metadata": {
        "id": "YrBl8yhpSHV6"
      },
      "source": [
        "# Books Recommendation System\n",
        "\n",
        "***Elif İdil Ayata - 200201039***\\\n",
        "***Ömer Erdem Dilek - 200204036***\\\n",
        "***Muhammed Yasinhan Yaşar - 200201010***"
      ]
    },
    {
      "cell_type": "markdown",
      "metadata": {
        "id": "FsiGZaE5Mrgx"
      },
      "source": [
        "### Neccesary Imports"
      ]
    },
    {
      "cell_type": "code",
      "execution_count": 116,
      "metadata": {
        "id": "fqw54WeDG1c3"
      },
      "outputs": [],
      "source": [
        "import pandas as pd\n",
        "import numpy as np\n",
        "import ast\n",
        "from sklearn.feature_extraction.text import TfidfVectorizer\n",
        "from sklearn.metrics.pairwise import cosine_similarity\n",
        "from sklearn.metrics import pairwise_distances\n",
        "from sklearn.preprocessing import MultiLabelBinarizer\n",
        "from sklearn.metrics import mean_absolute_error, mean_squared_error, precision_score, recall_score, f1_score"
      ]
    },
    {
      "cell_type": "code",
      "execution_count": 117,
      "metadata": {
        "id": "BdIrSVNRHvQ0"
      },
      "outputs": [
        {
          "data": {
            "text/html": [
              "<div>\n",
              "<style scoped>\n",
              "    .dataframe tbody tr th:only-of-type {\n",
              "        vertical-align: middle;\n",
              "    }\n",
              "\n",
              "    .dataframe tbody tr th {\n",
              "        vertical-align: top;\n",
              "    }\n",
              "\n",
              "    .dataframe thead th {\n",
              "        text-align: right;\n",
              "    }\n",
              "</style>\n",
              "<table border=\"1\" class=\"dataframe\">\n",
              "  <thead>\n",
              "    <tr style=\"text-align: right;\">\n",
              "      <th></th>\n",
              "      <th>Unnamed: 0</th>\n",
              "      <th>Book</th>\n",
              "      <th>Author</th>\n",
              "      <th>Description</th>\n",
              "      <th>Genres</th>\n",
              "      <th>Avg_Rating</th>\n",
              "      <th>Num_Ratings</th>\n",
              "      <th>URL</th>\n",
              "    </tr>\n",
              "  </thead>\n",
              "  <tbody>\n",
              "    <tr>\n",
              "      <th>0</th>\n",
              "      <td>0</td>\n",
              "      <td>To Kill a Mockingbird</td>\n",
              "      <td>Harper Lee</td>\n",
              "      <td>The unforgettable novel of a childhood in a sl...</td>\n",
              "      <td>['Classics', 'Fiction', 'Historical Fiction', ...</td>\n",
              "      <td>4.27</td>\n",
              "      <td>5,691,311</td>\n",
              "      <td>https://www.goodreads.com/book/show/2657.To_Ki...</td>\n",
              "    </tr>\n",
              "    <tr>\n",
              "      <th>1</th>\n",
              "      <td>1</td>\n",
              "      <td>Harry Potter and the Philosopher’s Stone (Harr...</td>\n",
              "      <td>J.K. Rowling</td>\n",
              "      <td>Harry Potter thinks he is an ordinary boy - un...</td>\n",
              "      <td>['Fantasy', 'Fiction', 'Young Adult', 'Magic',...</td>\n",
              "      <td>4.47</td>\n",
              "      <td>9,278,135</td>\n",
              "      <td>https://www.goodreads.com/book/show/72193.Harr...</td>\n",
              "    </tr>\n",
              "    <tr>\n",
              "      <th>2</th>\n",
              "      <td>2</td>\n",
              "      <td>Pride and Prejudice</td>\n",
              "      <td>Jane Austen</td>\n",
              "      <td>Since its immediate success in 1813, Pride and...</td>\n",
              "      <td>['Classics', 'Fiction', 'Romance', 'Historical...</td>\n",
              "      <td>4.28</td>\n",
              "      <td>3,944,155</td>\n",
              "      <td>https://www.goodreads.com/book/show/1885.Pride...</td>\n",
              "    </tr>\n",
              "    <tr>\n",
              "      <th>3</th>\n",
              "      <td>3</td>\n",
              "      <td>The Diary of a Young Girl</td>\n",
              "      <td>Anne Frank</td>\n",
              "      <td>Discovered in the attic in which she spent the...</td>\n",
              "      <td>['Classics', 'Nonfiction', 'History', 'Biograp...</td>\n",
              "      <td>4.18</td>\n",
              "      <td>3,488,438</td>\n",
              "      <td>https://www.goodreads.com/book/show/48855.The_...</td>\n",
              "    </tr>\n",
              "    <tr>\n",
              "      <th>4</th>\n",
              "      <td>4</td>\n",
              "      <td>Animal Farm</td>\n",
              "      <td>George Orwell</td>\n",
              "      <td>Librarian's note: There is an Alternate Cover ...</td>\n",
              "      <td>['Classics', 'Fiction', 'Dystopia', 'Fantasy',...</td>\n",
              "      <td>3.98</td>\n",
              "      <td>3,575,172</td>\n",
              "      <td>https://www.goodreads.com/book/show/170448.Ani...</td>\n",
              "    </tr>\n",
              "  </tbody>\n",
              "</table>\n",
              "</div>"
            ],
            "text/plain": [
              "   Unnamed: 0                                               Book  \\\n",
              "0           0                              To Kill a Mockingbird   \n",
              "1           1  Harry Potter and the Philosopher’s Stone (Harr...   \n",
              "2           2                                Pride and Prejudice   \n",
              "3           3                          The Diary of a Young Girl   \n",
              "4           4                                        Animal Farm   \n",
              "\n",
              "          Author                                        Description  \\\n",
              "0     Harper Lee  The unforgettable novel of a childhood in a sl...   \n",
              "1   J.K. Rowling  Harry Potter thinks he is an ordinary boy - un...   \n",
              "2    Jane Austen  Since its immediate success in 1813, Pride and...   \n",
              "3     Anne Frank  Discovered in the attic in which she spent the...   \n",
              "4  George Orwell  Librarian's note: There is an Alternate Cover ...   \n",
              "\n",
              "                                              Genres  Avg_Rating Num_Ratings  \\\n",
              "0  ['Classics', 'Fiction', 'Historical Fiction', ...        4.27   5,691,311   \n",
              "1  ['Fantasy', 'Fiction', 'Young Adult', 'Magic',...        4.47   9,278,135   \n",
              "2  ['Classics', 'Fiction', 'Romance', 'Historical...        4.28   3,944,155   \n",
              "3  ['Classics', 'Nonfiction', 'History', 'Biograp...        4.18   3,488,438   \n",
              "4  ['Classics', 'Fiction', 'Dystopia', 'Fantasy',...        3.98   3,575,172   \n",
              "\n",
              "                                                 URL  \n",
              "0  https://www.goodreads.com/book/show/2657.To_Ki...  \n",
              "1  https://www.goodreads.com/book/show/72193.Harr...  \n",
              "2  https://www.goodreads.com/book/show/1885.Pride...  \n",
              "3  https://www.goodreads.com/book/show/48855.The_...  \n",
              "4  https://www.goodreads.com/book/show/170448.Ani...  "
            ]
          },
          "execution_count": 117,
          "metadata": {},
          "output_type": "execute_result"
        }
      ],
      "source": [
        "data = pd.read_csv(\"data/goodreads_data.csv\")\n",
        "data.head()"
      ]
    },
    {
      "cell_type": "markdown",
      "metadata": {
        "id": "vU6nflG5OJAV"
      },
      "source": [
        "## 1) Data Cleaning Step"
      ]
    },
    {
      "cell_type": "markdown",
      "metadata": {},
      "source": [
        "We drop here the URL column, it will never be used"
      ]
    },
    {
      "cell_type": "code",
      "execution_count": 118,
      "metadata": {
        "colab": {
          "base_uri": "https://localhost:8080/",
          "height": 424
        },
        "id": "WIOSsNhfIIFJ",
        "outputId": "6269a42b-2e39-42b3-ae7d-7cb8ee878fd6"
      },
      "outputs": [
        {
          "data": {
            "text/html": [
              "<div>\n",
              "<style scoped>\n",
              "    .dataframe tbody tr th:only-of-type {\n",
              "        vertical-align: middle;\n",
              "    }\n",
              "\n",
              "    .dataframe tbody tr th {\n",
              "        vertical-align: top;\n",
              "    }\n",
              "\n",
              "    .dataframe thead th {\n",
              "        text-align: right;\n",
              "    }\n",
              "</style>\n",
              "<table border=\"1\" class=\"dataframe\">\n",
              "  <thead>\n",
              "    <tr style=\"text-align: right;\">\n",
              "      <th></th>\n",
              "      <th>Unnamed: 0</th>\n",
              "      <th>Book</th>\n",
              "      <th>Author</th>\n",
              "      <th>Description</th>\n",
              "      <th>Genres</th>\n",
              "      <th>Avg_Rating</th>\n",
              "      <th>Num_Ratings</th>\n",
              "    </tr>\n",
              "  </thead>\n",
              "  <tbody>\n",
              "    <tr>\n",
              "      <th>0</th>\n",
              "      <td>0</td>\n",
              "      <td>To Kill a Mockingbird</td>\n",
              "      <td>Harper Lee</td>\n",
              "      <td>The unforgettable novel of a childhood in a sl...</td>\n",
              "      <td>['Classics', 'Fiction', 'Historical Fiction', ...</td>\n",
              "      <td>4.27</td>\n",
              "      <td>5,691,311</td>\n",
              "    </tr>\n",
              "    <tr>\n",
              "      <th>1</th>\n",
              "      <td>1</td>\n",
              "      <td>Harry Potter and the Philosopher’s Stone (Harr...</td>\n",
              "      <td>J.K. Rowling</td>\n",
              "      <td>Harry Potter thinks he is an ordinary boy - un...</td>\n",
              "      <td>['Fantasy', 'Fiction', 'Young Adult', 'Magic',...</td>\n",
              "      <td>4.47</td>\n",
              "      <td>9,278,135</td>\n",
              "    </tr>\n",
              "    <tr>\n",
              "      <th>2</th>\n",
              "      <td>2</td>\n",
              "      <td>Pride and Prejudice</td>\n",
              "      <td>Jane Austen</td>\n",
              "      <td>Since its immediate success in 1813, Pride and...</td>\n",
              "      <td>['Classics', 'Fiction', 'Romance', 'Historical...</td>\n",
              "      <td>4.28</td>\n",
              "      <td>3,944,155</td>\n",
              "    </tr>\n",
              "    <tr>\n",
              "      <th>3</th>\n",
              "      <td>3</td>\n",
              "      <td>The Diary of a Young Girl</td>\n",
              "      <td>Anne Frank</td>\n",
              "      <td>Discovered in the attic in which she spent the...</td>\n",
              "      <td>['Classics', 'Nonfiction', 'History', 'Biograp...</td>\n",
              "      <td>4.18</td>\n",
              "      <td>3,488,438</td>\n",
              "    </tr>\n",
              "    <tr>\n",
              "      <th>4</th>\n",
              "      <td>4</td>\n",
              "      <td>Animal Farm</td>\n",
              "      <td>George Orwell</td>\n",
              "      <td>Librarian's note: There is an Alternate Cover ...</td>\n",
              "      <td>['Classics', 'Fiction', 'Dystopia', 'Fantasy',...</td>\n",
              "      <td>3.98</td>\n",
              "      <td>3,575,172</td>\n",
              "    </tr>\n",
              "  </tbody>\n",
              "</table>\n",
              "</div>"
            ],
            "text/plain": [
              "   Unnamed: 0                                               Book  \\\n",
              "0           0                              To Kill a Mockingbird   \n",
              "1           1  Harry Potter and the Philosopher’s Stone (Harr...   \n",
              "2           2                                Pride and Prejudice   \n",
              "3           3                          The Diary of a Young Girl   \n",
              "4           4                                        Animal Farm   \n",
              "\n",
              "          Author                                        Description  \\\n",
              "0     Harper Lee  The unforgettable novel of a childhood in a sl...   \n",
              "1   J.K. Rowling  Harry Potter thinks he is an ordinary boy - un...   \n",
              "2    Jane Austen  Since its immediate success in 1813, Pride and...   \n",
              "3     Anne Frank  Discovered in the attic in which she spent the...   \n",
              "4  George Orwell  Librarian's note: There is an Alternate Cover ...   \n",
              "\n",
              "                                              Genres  Avg_Rating Num_Ratings  \n",
              "0  ['Classics', 'Fiction', 'Historical Fiction', ...        4.27   5,691,311  \n",
              "1  ['Fantasy', 'Fiction', 'Young Adult', 'Magic',...        4.47   9,278,135  \n",
              "2  ['Classics', 'Fiction', 'Romance', 'Historical...        4.28   3,944,155  \n",
              "3  ['Classics', 'Nonfiction', 'History', 'Biograp...        4.18   3,488,438  \n",
              "4  ['Classics', 'Fiction', 'Dystopia', 'Fantasy',...        3.98   3,575,172  "
            ]
          },
          "execution_count": 118,
          "metadata": {},
          "output_type": "execute_result"
        }
      ],
      "source": [
        "df = pd.DataFrame(data)\n",
        "df = df.drop(columns=[\"URL\"])\n",
        "df.head()"
      ]
    },
    {
      "cell_type": "markdown",
      "metadata": {},
      "source": [
        "Checked for the empt values of rows"
      ]
    },
    {
      "cell_type": "code",
      "execution_count": 119,
      "metadata": {
        "colab": {
          "base_uri": "https://localhost:8080/",
          "height": 335
        },
        "id": "bW5bNL70Ir8J",
        "outputId": "c15e4ff9-dd6b-48f5-85d2-f65d55c19fa4"
      },
      "outputs": [
        {
          "data": {
            "text/plain": [
              "Unnamed: 0      0\n",
              "Book            0\n",
              "Author          0\n",
              "Description    77\n",
              "Genres          0\n",
              "Avg_Rating      0\n",
              "Num_Ratings     0\n",
              "URL             0\n",
              "dtype: int64"
            ]
          },
          "execution_count": 119,
          "metadata": {},
          "output_type": "execute_result"
        }
      ],
      "source": [
        "data.isnull().sum()"
      ]
    },
    {
      "cell_type": "markdown",
      "metadata": {},
      "source": [
        "Drop that rows that has empty Descriptions"
      ]
    },
    {
      "cell_type": "code",
      "execution_count": 120,
      "metadata": {
        "id": "YxLwwr9fNMr8"
      },
      "outputs": [
        {
          "data": {
            "text/plain": [
              "Unnamed: 0     0\n",
              "Book           0\n",
              "Author         0\n",
              "Description    0\n",
              "Genres         0\n",
              "Avg_Rating     0\n",
              "Num_Ratings    0\n",
              "dtype: int64"
            ]
          },
          "execution_count": 120,
          "metadata": {},
          "output_type": "execute_result"
        }
      ],
      "source": [
        "data_cleaned = df.dropna(subset=['Description'])\n",
        "data_cleaned.isnull().sum()"
      ]
    },
    {
      "cell_type": "markdown",
      "metadata": {},
      "source": [
        "Make sure that Avg_Rating has the range of `0 >= Avg_Rating <= 5`"
      ]
    },
    {
      "cell_type": "code",
      "execution_count": 121,
      "metadata": {
        "id": "ju-rpmFHNruk"
      },
      "outputs": [],
      "source": [
        "data_cleaned.loc[:, 'Avg_Rating'] = data_cleaned['Avg_Rating'].clip(lower=0, upper=5)"
      ]
    },
    {
      "cell_type": "markdown",
      "metadata": {},
      "source": [
        "'Num_Ratings' written in a format that you put a ',' comma for every three digit (Americans!)\n",
        "We fixed it"
      ]
    },
    {
      "cell_type": "code",
      "execution_count": 122,
      "metadata": {
        "colab": {
          "base_uri": "https://localhost:8080/",
          "height": 424
        },
        "id": "ekbg2SAaPIoc",
        "outputId": "bde9c588-6f6f-43f6-8830-6b0560d635f8"
      },
      "outputs": [
        {
          "data": {
            "text/html": [
              "<div>\n",
              "<style scoped>\n",
              "    .dataframe tbody tr th:only-of-type {\n",
              "        vertical-align: middle;\n",
              "    }\n",
              "\n",
              "    .dataframe tbody tr th {\n",
              "        vertical-align: top;\n",
              "    }\n",
              "\n",
              "    .dataframe thead th {\n",
              "        text-align: right;\n",
              "    }\n",
              "</style>\n",
              "<table border=\"1\" class=\"dataframe\">\n",
              "  <thead>\n",
              "    <tr style=\"text-align: right;\">\n",
              "      <th></th>\n",
              "      <th>Unnamed: 0</th>\n",
              "      <th>Book</th>\n",
              "      <th>Author</th>\n",
              "      <th>Description</th>\n",
              "      <th>Genres</th>\n",
              "      <th>Avg_Rating</th>\n",
              "      <th>Num_Ratings</th>\n",
              "    </tr>\n",
              "  </thead>\n",
              "  <tbody>\n",
              "    <tr>\n",
              "      <th>0</th>\n",
              "      <td>0</td>\n",
              "      <td>To Kill a Mockingbird</td>\n",
              "      <td>Harper Lee</td>\n",
              "      <td>The unforgettable novel of a childhood in a sl...</td>\n",
              "      <td>['Classics', 'Fiction', 'Historical Fiction', ...</td>\n",
              "      <td>4.27</td>\n",
              "      <td>5691311</td>\n",
              "    </tr>\n",
              "    <tr>\n",
              "      <th>1</th>\n",
              "      <td>1</td>\n",
              "      <td>Harry Potter and the Philosopher’s Stone (Harr...</td>\n",
              "      <td>J.K. Rowling</td>\n",
              "      <td>Harry Potter thinks he is an ordinary boy - un...</td>\n",
              "      <td>['Fantasy', 'Fiction', 'Young Adult', 'Magic',...</td>\n",
              "      <td>4.47</td>\n",
              "      <td>9278135</td>\n",
              "    </tr>\n",
              "    <tr>\n",
              "      <th>2</th>\n",
              "      <td>2</td>\n",
              "      <td>Pride and Prejudice</td>\n",
              "      <td>Jane Austen</td>\n",
              "      <td>Since its immediate success in 1813, Pride and...</td>\n",
              "      <td>['Classics', 'Fiction', 'Romance', 'Historical...</td>\n",
              "      <td>4.28</td>\n",
              "      <td>3944155</td>\n",
              "    </tr>\n",
              "    <tr>\n",
              "      <th>3</th>\n",
              "      <td>3</td>\n",
              "      <td>The Diary of a Young Girl</td>\n",
              "      <td>Anne Frank</td>\n",
              "      <td>Discovered in the attic in which she spent the...</td>\n",
              "      <td>['Classics', 'Nonfiction', 'History', 'Biograp...</td>\n",
              "      <td>4.18</td>\n",
              "      <td>3488438</td>\n",
              "    </tr>\n",
              "    <tr>\n",
              "      <th>4</th>\n",
              "      <td>4</td>\n",
              "      <td>Animal Farm</td>\n",
              "      <td>George Orwell</td>\n",
              "      <td>Librarian's note: There is an Alternate Cover ...</td>\n",
              "      <td>['Classics', 'Fiction', 'Dystopia', 'Fantasy',...</td>\n",
              "      <td>3.98</td>\n",
              "      <td>3575172</td>\n",
              "    </tr>\n",
              "  </tbody>\n",
              "</table>\n",
              "</div>"
            ],
            "text/plain": [
              "   Unnamed: 0                                               Book  \\\n",
              "0           0                              To Kill a Mockingbird   \n",
              "1           1  Harry Potter and the Philosopher’s Stone (Harr...   \n",
              "2           2                                Pride and Prejudice   \n",
              "3           3                          The Diary of a Young Girl   \n",
              "4           4                                        Animal Farm   \n",
              "\n",
              "          Author                                        Description  \\\n",
              "0     Harper Lee  The unforgettable novel of a childhood in a sl...   \n",
              "1   J.K. Rowling  Harry Potter thinks he is an ordinary boy - un...   \n",
              "2    Jane Austen  Since its immediate success in 1813, Pride and...   \n",
              "3     Anne Frank  Discovered in the attic in which she spent the...   \n",
              "4  George Orwell  Librarian's note: There is an Alternate Cover ...   \n",
              "\n",
              "                                              Genres  Avg_Rating Num_Ratings  \n",
              "0  ['Classics', 'Fiction', 'Historical Fiction', ...        4.27     5691311  \n",
              "1  ['Fantasy', 'Fiction', 'Young Adult', 'Magic',...        4.47     9278135  \n",
              "2  ['Classics', 'Fiction', 'Romance', 'Historical...        4.28     3944155  \n",
              "3  ['Classics', 'Nonfiction', 'History', 'Biograp...        4.18     3488438  \n",
              "4  ['Classics', 'Fiction', 'Dystopia', 'Fantasy',...        3.98     3575172  "
            ]
          },
          "execution_count": 122,
          "metadata": {},
          "output_type": "execute_result"
        }
      ],
      "source": [
        "data_cleaned.loc[:, 'Num_Ratings'] = data_cleaned['Num_Ratings'].astype(str).apply(\n",
        "    lambda x: int(x.replace(',', '')) if x.replace(',', '').isdigit() else 0\n",
        ")\n",
        "data_cleaned.head()"
      ]
    },
    {
      "cell_type": "markdown",
      "metadata": {},
      "source": [
        "as you can se here Genres has a format like `['Fantasy', 'Fiction', 'Young Adult', 'Magic',...]`\\\n",
        "it is really similar to python's built-in arrays, so we just used the built-in ast(Abstract Syntax Tree) module of python to directly parse them."
      ]
    },
    {
      "cell_type": "code",
      "execution_count": 123,
      "metadata": {
        "id": "jJi_S-zGVeAU"
      },
      "outputs": [],
      "source": [
        "def ensure_list(value):\n",
        "    if isinstance(value, str):\n",
        "        try:\n",
        "            return ast.literal_eval(value)\n",
        "        except (ValueError, SyntaxError):\n",
        "            return ['Unknown']\n",
        "    elif isinstance(value, list):\n",
        "        return value\n",
        "    return ['Unknown']"
      ]
    },
    {
      "cell_type": "markdown",
      "metadata": {},
      "source": [
        "If there was an empty Genres list like `[]` just append 'Unknown' to it"
      ]
    },
    {
      "cell_type": "code",
      "execution_count": 124,
      "metadata": {
        "id": "9lu2K2MsQotC"
      },
      "outputs": [],
      "source": [
        "data_cleaned = data_cleaned.copy()  # Create a copy\n",
        "\n",
        "# Convert all Genres to lists\n",
        "data_cleaned.loc[:, 'Genres'] = data_cleaned['Genres'].apply(ensure_list)\n",
        "\n",
        "# Replace empty lists with 'Unknown'\n",
        "data_cleaned.loc[:, 'Genres'] = data_cleaned['Genres'].apply(lambda x: ['Unknown'] if len(x) == 0 else x);"
      ]
    },
    {
      "cell_type": "markdown",
      "metadata": {
        "id": "KgSzezSYlXk9"
      },
      "source": [
        "## 2) Similarty Measurement"
      ]
    },
    {
      "cell_type": "markdown",
      "metadata": {},
      "source": [
        "Making that array of Genres space seperated strings to vectorize them word by word"
      ]
    },
    {
      "cell_type": "code",
      "execution_count": 125,
      "metadata": {
        "id": "SDhJDC-KWDUc"
      },
      "outputs": [],
      "source": [
        "# Convert genres list to space-separated string\n",
        "data_cleaned['Genres'] = data_cleaned['Genres'].apply(lambda x: ' '.join(x))\n",
        "\n",
        "# Initialize TF-IDF Vectorizer\n",
        "tfidf_vectorizer = TfidfVectorizer(\n",
        "    stop_words='english',  # Remove common stop words\n",
        "    max_features=5000,    # Limit features to top 5000 terms\n",
        "    ngram_range=(1, 1)    # Use unigrams only for genres\n",
        ")"
      ]
    },
    {
      "cell_type": "code",
      "execution_count": 146,
      "metadata": {},
      "outputs": [
        {
          "data": {
            "text/plain": [
              "0    Classics Fiction Historical Fiction School Lit...\n",
              "1    Fantasy Fiction Young Adult Magic Childrens Mi...\n",
              "2    Classics Fiction Romance Historical Fiction Li...\n",
              "3    Classics Nonfiction History Biography Memoir H...\n",
              "4    Classics Fiction Dystopia Fantasy Politics Sch...\n",
              "Name: Genres, dtype: object"
            ]
          },
          "execution_count": 146,
          "metadata": {},
          "output_type": "execute_result"
        }
      ],
      "source": [
        "data_cleaned['Genres'].head()"
      ]
    },
    {
      "cell_type": "markdown",
      "metadata": {},
      "source": [
        "Calculating cosine similarties of word vectors and creating ``cosine_similarty_matrix``"
      ]
    },
    {
      "cell_type": "code",
      "execution_count": 147,
      "metadata": {
        "id": "EhrB8SHQZpCZ"
      },
      "outputs": [],
      "source": [
        "# Transform the Genres column\n",
        "tfidf_matrix = tfidf_vectorizer.fit_transform(data_cleaned['Genres'])\n",
        "# Compute cosine similarity\n",
        "cosine_similarity_matrix = cosine_similarity(tfidf_matrix)"
      ]
    },
    {
      "cell_type": "markdown",
      "metadata": {},
      "source": [
        "convert cos matrix to a data frame"
      ]
    },
    {
      "cell_type": "code",
      "execution_count": 148,
      "metadata": {
        "colab": {
          "base_uri": "https://localhost:8080/",
          "height": 840
        },
        "id": "rQoP6LUYZu9t",
        "outputId": "fda90ffa-23ac-4d74-e6f3-f32afcb86174"
      },
      "outputs": [
        {
          "data": {
            "text/html": [
              "<div>\n",
              "<style scoped>\n",
              "    .dataframe tbody tr th:only-of-type {\n",
              "        vertical-align: middle;\n",
              "    }\n",
              "\n",
              "    .dataframe tbody tr th {\n",
              "        vertical-align: top;\n",
              "    }\n",
              "\n",
              "    .dataframe thead th {\n",
              "        text-align: right;\n",
              "    }\n",
              "</style>\n",
              "<table border=\"1\" class=\"dataframe\">\n",
              "  <thead>\n",
              "    <tr style=\"text-align: right;\">\n",
              "      <th>Book</th>\n",
              "      <th>To Kill a Mockingbird</th>\n",
              "      <th>Harry Potter and the Philosopher’s Stone (Harry Potter, #1)</th>\n",
              "      <th>Pride and Prejudice</th>\n",
              "    </tr>\n",
              "    <tr>\n",
              "      <th>Book</th>\n",
              "      <th></th>\n",
              "      <th></th>\n",
              "      <th></th>\n",
              "    </tr>\n",
              "  </thead>\n",
              "  <tbody>\n",
              "    <tr>\n",
              "      <th>To Kill a Mockingbird</th>\n",
              "      <td>1.000000</td>\n",
              "      <td>0.27102</td>\n",
              "      <td>0.678404</td>\n",
              "    </tr>\n",
              "    <tr>\n",
              "      <th>Harry Potter and the Philosopher’s Stone (Harry Potter, #1)</th>\n",
              "      <td>0.271020</td>\n",
              "      <td>1.00000</td>\n",
              "      <td>0.131710</td>\n",
              "    </tr>\n",
              "    <tr>\n",
              "      <th>Pride and Prejudice</th>\n",
              "      <td>0.678404</td>\n",
              "      <td>0.13171</td>\n",
              "      <td>1.000000</td>\n",
              "    </tr>\n",
              "  </tbody>\n",
              "</table>\n",
              "</div>"
            ],
            "text/plain": [
              "Book                                                To Kill a Mockingbird  \\\n",
              "Book                                                                        \n",
              "To Kill a Mockingbird                                            1.000000   \n",
              "Harry Potter and the Philosopher’s Stone (Harry...               0.271020   \n",
              "Pride and Prejudice                                              0.678404   \n",
              "\n",
              "Book                                                Harry Potter and the Philosopher’s Stone (Harry Potter, #1)  \\\n",
              "Book                                                                                                              \n",
              "To Kill a Mockingbird                                                                         0.27102             \n",
              "Harry Potter and the Philosopher’s Stone (Harry...                                            1.00000             \n",
              "Pride and Prejudice                                                                           0.13171             \n",
              "\n",
              "Book                                                Pride and Prejudice  \n",
              "Book                                                                     \n",
              "To Kill a Mockingbird                                          0.678404  \n",
              "Harry Potter and the Philosopher’s Stone (Harry...             0.131710  \n",
              "Pride and Prejudice                                            1.000000  "
            ]
          },
          "execution_count": 148,
          "metadata": {},
          "output_type": "execute_result"
        }
      ],
      "source": [
        "\n",
        "# Create a DataFrame for the similarity matrix\n",
        "cosine_similarity_df = pd.DataFrame(\n",
        "    cosine_similarity_matrix,\n",
        "    index=data_cleaned['Book'],  # Use book titles as index\n",
        "    columns=data_cleaned['Book']  # Use book titles as columns\n",
        ")\n",
        "\n",
        "# Display the similarity DataFrame (first 3x3 part)\n",
        "cosine_similarity_df.iloc[:3, :3]"
      ]
    },
    {
      "cell_type": "markdown",
      "metadata": {},
      "source": [
        "Finding jaccard similarity matrix\\\n",
        "We used here a `MultiLabelBinarizer()` not to iterate through nested for loops (it was very slow)"
      ]
    },
    {
      "cell_type": "code",
      "execution_count": 129,
      "metadata": {
        "colab": {
          "base_uri": "https://localhost:8080/"
        },
        "id": "HAvX658UaNyf",
        "outputId": "d495252a-60a6-45c2-fcd3-a3455cccc9ea"
      },
      "outputs": [
        {
          "name": "stderr",
          "output_type": "stream",
          "text": [
            "c:\\Users\\Lenovo\\Desktop\\data-mining\\data-mining-project\\data-mining\\Lib\\site-packages\\sklearn\\metrics\\pairwise.py:2466: DataConversionWarning: Data was converted to boolean for metric jaccard\n",
            "  warnings.warn(msg, DataConversionWarning)\n"
          ]
        }
      ],
      "source": [
        "# Initialize MultiLabelBinarizer\n",
        "mlb = MultiLabelBinarizer()\n",
        "\n",
        "# Transform the genres into a one-hot encoded matrix\n",
        "genre_matrix = mlb.fit_transform(data_cleaned['Genres'])\n",
        "\n",
        "# Compute Jaccard similarity using pairwise distances\n",
        "jaccard_matrix = 1 - pairwise_distances(genre_matrix, metric='jaccard')"
      ]
    },
    {
      "cell_type": "markdown",
      "metadata": {},
      "source": [
        "convert jaccard matrix to a data frame"
      ]
    },
    {
      "cell_type": "code",
      "execution_count": 149,
      "metadata": {
        "colab": {
          "base_uri": "https://localhost:8080/",
          "height": 840
        },
        "id": "Peed3QzTjhqD",
        "outputId": "e33c9873-2829-40e1-fbbd-907203b1e6ce"
      },
      "outputs": [
        {
          "data": {
            "text/html": [
              "<div>\n",
              "<style scoped>\n",
              "    .dataframe tbody tr th:only-of-type {\n",
              "        vertical-align: middle;\n",
              "    }\n",
              "\n",
              "    .dataframe tbody tr th {\n",
              "        vertical-align: top;\n",
              "    }\n",
              "\n",
              "    .dataframe thead th {\n",
              "        text-align: right;\n",
              "    }\n",
              "</style>\n",
              "<table border=\"1\" class=\"dataframe\">\n",
              "  <thead>\n",
              "    <tr style=\"text-align: right;\">\n",
              "      <th>Book</th>\n",
              "      <th>To Kill a Mockingbird</th>\n",
              "      <th>Harry Potter and the Philosopher’s Stone (Harry Potter, #1)</th>\n",
              "      <th>Pride and Prejudice</th>\n",
              "    </tr>\n",
              "    <tr>\n",
              "      <th>Book</th>\n",
              "      <th></th>\n",
              "      <th></th>\n",
              "      <th></th>\n",
              "    </tr>\n",
              "  </thead>\n",
              "  <tbody>\n",
              "    <tr>\n",
              "      <th>To Kill a Mockingbird</th>\n",
              "      <td>1.000000</td>\n",
              "      <td>0.760000</td>\n",
              "      <td>0.692308</td>\n",
              "    </tr>\n",
              "    <tr>\n",
              "      <th>Harry Potter and the Philosopher’s Stone (Harry Potter, #1)</th>\n",
              "      <td>0.760000</td>\n",
              "      <td>1.000000</td>\n",
              "      <td>0.571429</td>\n",
              "    </tr>\n",
              "    <tr>\n",
              "      <th>Pride and Prejudice</th>\n",
              "      <td>0.692308</td>\n",
              "      <td>0.571429</td>\n",
              "      <td>1.000000</td>\n",
              "    </tr>\n",
              "  </tbody>\n",
              "</table>\n",
              "</div>"
            ],
            "text/plain": [
              "Book                                                To Kill a Mockingbird  \\\n",
              "Book                                                                        \n",
              "To Kill a Mockingbird                                            1.000000   \n",
              "Harry Potter and the Philosopher’s Stone (Harry...               0.760000   \n",
              "Pride and Prejudice                                              0.692308   \n",
              "\n",
              "Book                                                Harry Potter and the Philosopher’s Stone (Harry Potter, #1)  \\\n",
              "Book                                                                                                              \n",
              "To Kill a Mockingbird                                                                        0.760000             \n",
              "Harry Potter and the Philosopher’s Stone (Harry...                                           1.000000             \n",
              "Pride and Prejudice                                                                          0.571429             \n",
              "\n",
              "Book                                                Pride and Prejudice  \n",
              "Book                                                                     \n",
              "To Kill a Mockingbird                                          0.692308  \n",
              "Harry Potter and the Philosopher’s Stone (Harry...             0.571429  \n",
              "Pride and Prejudice                                            1.000000  "
            ]
          },
          "execution_count": 149,
          "metadata": {},
          "output_type": "execute_result"
        }
      ],
      "source": [
        "# Convert to a DataFrame for readability\n",
        "jaccard_df = pd.DataFrame(\n",
        "    jaccard_matrix,\n",
        "    index=data_cleaned['Book'],\n",
        "    columns=data_cleaned['Book']\n",
        ")\n",
        "\n",
        "# Display the Jaccard similarity DataFrame (first 3x3 part)\n",
        "jaccard_df.iloc[:3, :3]"
      ]
    },
    {
      "cell_type": "markdown",
      "metadata": {
        "id": "Yf4hcMN9m1hj"
      },
      "source": [
        "## 3) Recommendation Generation"
      ]
    },
    {
      "cell_type": "markdown",
      "metadata": {},
      "source": [
        "Generating recomendation with genres with given similarity matrix"
      ]
    },
    {
      "cell_type": "code",
      "execution_count": 131,
      "metadata": {
        "id": "wSPawizbk7rZ"
      },
      "outputs": [],
      "source": [
        "def generate_recommendations(user_interacted_books, similarty_df, top_n=5):\n",
        "    # Get the similarity scores for the books the user interacted with\n",
        "    similar_books_scores = pd.Series(dtype=float)\n",
        "\n",
        "    for book in user_interacted_books:\n",
        "        similar_books_scores = similar_books_scores.add(similarty_df[book] / len(user_interacted_books), fill_value=0)\n",
        "        # similar_books_scores = similar_books_scores.add(similarty_df[book], fill_value=0)\n",
        "\n",
        "    # Rank books by their similarity score\n",
        "    recommendations = similar_books_scores.sort_values(ascending=False)\n",
        "\n",
        "    # Remove books the user has already interacted with\n",
        "    recommendations = recommendations[~recommendations.index.isin(user_interacted_books)]\n",
        "\n",
        "    # Return top N recommendations\n",
        "    return recommendations.head(top_n)\n"
      ]
    },
    {
      "cell_type": "code",
      "execution_count": 132,
      "metadata": {
        "colab": {
          "base_uri": "https://localhost:8080/",
          "height": 210
        },
        "id": "x0qb8MVtm4PX",
        "outputId": "abe3d77d-5335-4810-9c32-df176273d95f"
      },
      "outputs": [
        {
          "data": {
            "text/plain": [
              "Book\n",
              "Animal Farm / 1984                             0.899684\n",
              "Brave New World / Brave New World Revisited    0.839162\n",
              "Island                                         0.800050\n",
              "dtype: float64"
            ]
          },
          "execution_count": 132,
          "metadata": {},
          "output_type": "execute_result"
        }
      ],
      "source": [
        "user_interacted_books = ['1984']\n",
        "top_recommendations_jaccard = generate_recommendations(user_interacted_books, jaccard_df, top_n=3)\n",
        "top_recommendations_cosine = generate_recommendations(user_interacted_books, cosine_similarity_df, top_n=3)\n",
        "\n",
        "\n",
        "top_recommendations_jaccard\n",
        "top_recommendations_cosine"
      ]
    },
    {
      "cell_type": "markdown",
      "metadata": {},
      "source": [
        "Applying freshenss to our `generate_recommendations` function to have variaty of different results each time"
      ]
    },
    {
      "cell_type": "code",
      "execution_count": 150,
      "metadata": {
        "id": "WLBi3xgMQV0s"
      },
      "outputs": [],
      "source": [
        "def generate_recommendations_with_freshness(user_interacted_books, similarity_df, previous_recommendations=None, freshness_weight=0.5, top_n=3):\n",
        "    # Get the similarity scores for the books the user interacted with\n",
        "    similar_books_scores = pd.Series(dtype=float)\n",
        "\n",
        "    for book in user_interacted_books:\n",
        "        similar_books_scores = similar_books_scores.add(similarity_df[book] / len(user_interacted_books), fill_value=0)\n",
        "\n",
        "    # Remove books the user has already interacted with\n",
        "    similar_books_scores = similar_books_scores[~similar_books_scores.index.isin(user_interacted_books)]\n",
        "\n",
        "    # If previous recommendations are provided, apply churn\n",
        "    if previous_recommendations:\n",
        "        freshness_scores = pd.Series(index=similar_books_scores.index, dtype=float).fillna(1.0)\n",
        "        for book in similar_books_scores.index:\n",
        "            if book in previous_recommendations:\n",
        "                freshness_scores[book] *= (1 - freshness_weight)  # Penalize previously recommended items\n",
        "        similar_books_scores *= freshness_scores  # Combine similarity with freshness\n",
        "\n",
        "    # Rank books by their adjusted similarity score\n",
        "    recommendations = similar_books_scores.sort_values(ascending=False)\n",
        "\n",
        "    # Return top N recommendations\n",
        "    return recommendations.head(top_n)"
      ]
    },
    {
      "cell_type": "markdown",
      "metadata": {},
      "source": [
        "We first used `generate_recommendations` for generating recomendations without freshness and than used that value as the ``previous_recommendations`` of ``generate_recommendations_with_freshness``"
      ]
    },
    {
      "cell_type": "code",
      "execution_count": null,
      "metadata": {
        "colab": {
          "base_uri": "https://localhost:8080/",
          "height": 272
        },
        "id": "wCN9t4bjQfXE",
        "outputId": "fd65127f-1d1e-47bd-b731-5c88f9e25ec9"
      },
      "outputs": [
        {
          "data": {
            "text/plain": [
              "Book\n",
              "Animal Farm / 1984    0.899684\n",
              "Cat's Cradle          0.789169\n",
              "Atlas Shrugged        0.787444\n",
              "A Clockwork Orange    0.784548\n",
              "Brave New World       0.758446\n",
              "dtype: float64"
            ]
          },
          "execution_count": 154,
          "metadata": {},
          "output_type": "execute_result"
        }
      ],
      "source": [
        "user_interacted_books = ['1984']\n",
        "previous_recommendations = set(top_recommendations_jaccard.index)\n",
        "\n",
        "# Assuming similarity_df is already defined\n",
        "top_recommendations_with_churn = generate_recommendations_with_freshness(\n",
        "    user_interacted_books,\n",
        "    similarity_df=cosine_similarity_df,\n",
        "    previous_recommendations=previous_recommendations,\n",
        "    freshness_weight=0.3,\n",
        "    top_n=5\n",
        ")\n",
        "\n",
        "top_recommendations_with_churn"
      ]
    },
    {
      "cell_type": "markdown",
      "metadata": {
        "id": "AaNdvcFQN1GI"
      },
      "source": [
        "## 4) Model Evaluation Metrics:"
      ]
    },
    {
      "cell_type": "markdown",
      "metadata": {},
      "source": [
        "Precision, Recall, F1-Score"
      ]
    },
    {
      "cell_type": "code",
      "execution_count": 135,
      "metadata": {
        "id": "dbeFG46RIBQy"
      },
      "outputs": [],
      "source": [
        "# 1. Calculate Precision, Recall, F1-Score\n",
        "def calculate_classification_metrics(recommended_books, relevant_books):\n",
        "    # Binary relevance labels\n",
        "    y_true = [1 if book in relevant_books else 0 for book in recommended_books.index]\n",
        "    y_pred = [1] * len(recommended_books)  # All recommended books are treated as \"positive\"\n",
        "\n",
        "    precision = precision_score(y_true, y_pred)\n",
        "    recall = recall_score(y_true, y_pred)\n",
        "    f1 = f1_score(y_true, y_pred)\n",
        "\n",
        "    return precision, recall, f1"
      ]
    },
    {
      "cell_type": "code",
      "execution_count": 136,
      "metadata": {
        "colab": {
          "base_uri": "https://localhost:8080/"
        },
        "id": "VW5g9YwJHzdS",
        "outputId": "411f1c9c-fe27-47f0-efd0-561e6982fbf0"
      },
      "outputs": [
        {
          "name": "stdout",
          "output_type": "stream",
          "text": [
            "\n",
            "Metrics for Jaccard Recommendations:\n",
            "Precision: 0.6666666666666666, Recall: 1.0, F1-Score: 0.8\n",
            "\n",
            "Metrics for Cosine Recommendations:\n",
            "Precision: 0.6666666666666666, Recall: 1.0, F1-Score: 0.8\n"
          ]
        }
      ],
      "source": [
        "relevant_books = ['Animal Farm / 1984', 'Brave New World / Brave New World Revisited', 'Blindness']\n",
        "\n",
        "jaccard_precision, jaccard_recall, jaccard_f1 = calculate_classification_metrics(top_recommendations_jaccard, relevant_books)\n",
        "cosine_precision, cosine_recall, cosine_f1 = calculate_classification_metrics(top_recommendations_cosine, relevant_books)\n",
        "\n",
        "# Print metrics\n",
        "print(\"\\nMetrics for Jaccard Recommendations:\")\n",
        "print(f\"Precision: {jaccard_precision}, Recall: {jaccard_recall}, F1-Score: {jaccard_f1}\")\n",
        "\n",
        "print(\"\\nMetrics for Cosine Recommendations:\")\n",
        "print(f\"Precision: {cosine_precision}, Recall: {cosine_recall}, F1-Score: {cosine_f1}\")"
      ]
    },
    {
      "cell_type": "markdown",
      "metadata": {},
      "source": [
        "MAE and RMSE"
      ]
    },
    {
      "cell_type": "code",
      "execution_count": 137,
      "metadata": {
        "id": "tJXdLNoXH-CJ"
      },
      "outputs": [],
      "source": [
        "# 2. Mean Absolute Error (MAE) and Root Mean Squared Error (RMSE)\n",
        "def calculate_regression_metrics(recommended_books, relevant_books):\n",
        "    # Generate ratings (1 if relevant, 0 otherwise)\n",
        "    actual_ratings = [1 if book in relevant_books else 0 for book in recommended_books.index]\n",
        "    predicted_ratings = recommended_books.values  # Use similarity scores as predicted ratings\n",
        "\n",
        "    mae = mean_absolute_error(actual_ratings, predicted_ratings)\n",
        "    rmse = np.sqrt(mean_squared_error(actual_ratings, predicted_ratings))\n",
        "    return mae, rmse"
      ]
    },
    {
      "cell_type": "code",
      "execution_count": 138,
      "metadata": {
        "colab": {
          "base_uri": "https://localhost:8080/"
        },
        "id": "Imj9DCwHH6eb",
        "outputId": "c439f3b4-39f9-401c-cfda-11b55c03a653"
      },
      "outputs": [
        {
          "name": "stdout",
          "output_type": "stream",
          "text": [
            "\n",
            "Regression Metrics for Jaccard Recommendations:\n",
            "MAE: 0.34848484848484845, RMSE: 0.5534408466734372\n",
            "\n",
            "Regression Metrics for Cosine Recommendations:\n",
            "MAE: 0.3537347513976199, RMSE: 0.4746969511600921\n"
          ]
        }
      ],
      "source": [
        "relevant_books = ['Animal Farm / 1984', 'Brave New World / Brave New World Revisited', 'Blindness']\n",
        "\n",
        "jaccard_mae, jaccard_rmse = calculate_regression_metrics(top_recommendations_jaccard, relevant_books)\n",
        "cosine_mae, cosine_rmse = calculate_regression_metrics(top_recommendations_cosine, relevant_books)\n",
        "\n",
        "# Print regression metrics\n",
        "print(\"\\nRegression Metrics for Jaccard Recommendations:\")\n",
        "print(f\"MAE: {jaccard_mae}, RMSE: {jaccard_rmse}\")\n",
        "\n",
        "print(\"\\nRegression Metrics for Cosine Recommendations:\")\n",
        "print(f\"MAE: {cosine_mae}, RMSE: {cosine_rmse}\")"
      ]
    },
    {
      "cell_type": "markdown",
      "metadata": {},
      "source": [
        "nDCG"
      ]
    },
    {
      "cell_type": "code",
      "execution_count": 139,
      "metadata": {
        "colab": {
          "base_uri": "https://localhost:8080/"
        },
        "id": "s0YI6zVGAF6y",
        "outputId": "9ee26092-41f1-4367-94e9-704051abf6fa"
      },
      "outputs": [
        {
          "name": "stdout",
          "output_type": "stream",
          "text": [
            "nDCG for cos: 0.7653606369886217\n",
            "nDCG for jac: 0.5307212739772434\n"
          ]
        }
      ],
      "source": [
        "def calculate_ndcg(relevant_scores, recommended_scores, k=5):\n",
        "    relevance = [1 if score in relevant_scores else 0 for score in recommended_scores[:k]]\n",
        "    dcg = sum(rel / np.log2(idx + 2) for idx, rel in enumerate(relevance))\n",
        "    idcg = sum(1 / np.log2(idx + 2) for idx in range(min(len(relevant_scores), k)))\n",
        "    return dcg / idcg if idcg > 0 else 0\n",
        "\n",
        "ndcg_cos = calculate_ndcg(relevant_books, top_recommendations_cosine.index.tolist(), k=5)\n",
        "ndcg_jac = calculate_ndcg(relevant_books, top_recommendations_jaccard.index.tolist(), k=5)\n",
        "print(f\"nDCG for cos: {ndcg_cos}\")\n",
        "print(f\"nDCG for jac: {ndcg_jac}\")"
      ]
    },
    {
      "cell_type": "markdown",
      "metadata": {},
      "source": [
        "ARHR "
      ]
    },
    {
      "cell_type": "code",
      "execution_count": 140,
      "metadata": {
        "colab": {
          "base_uri": "https://localhost:8080/"
        },
        "id": "fxM5J1yKKTFH",
        "outputId": "fb2b3a3f-8bf2-4405-ceea-7adea1d67be1"
      },
      "outputs": [
        {
          "name": "stdout",
          "output_type": "stream",
          "text": [
            "ARHR for cos: 0.5\n",
            "ARHR for jac: 0.27777777777777773\n"
          ]
        }
      ],
      "source": [
        "def calculate_arhr(relevant_books, recommended_books):\n",
        "    hits = [1 / (idx + 1) if book in relevant_books else 0 for idx, book in enumerate(recommended_books)]\n",
        "    return sum(hits) / len(relevant_books)\n",
        "\n",
        "arhr_cos = calculate_arhr(relevant_books, top_recommendations_cosine.index.tolist())\n",
        "arhr_jac = calculate_arhr(relevant_books, top_recommendations_jaccard.index.tolist())\n",
        "print(f\"ARHR for cos: {arhr_cos}\")\n",
        "print(f\"ARHR for jac: {arhr_jac}\")"
      ]
    },
    {
      "cell_type": "markdown",
      "metadata": {},
      "source": [
        "CHR "
      ]
    },
    {
      "cell_type": "code",
      "execution_count": 141,
      "metadata": {
        "colab": {
          "base_uri": "https://localhost:8080/"
        },
        "id": "FfFowRhgKU-X",
        "outputId": "90e4d3aa-62c8-4c18-d86f-d130ccc2b2f5"
      },
      "outputs": [
        {
          "name": "stdout",
          "output_type": "stream",
          "text": [
            "CHR for cosine: 0.6666666666666666\n",
            "CHR for jaccard: 0.6666666666666666\n"
          ]
        }
      ],
      "source": [
        "# General Accuracy\n",
        "def calculate_chr(relevant_books, recommended_books):\n",
        "    hits = [1 for book in recommended_books if book in relevant_books]\n",
        "    return len(hits) / len(recommended_books)\n",
        "\n",
        "chr_cos = calculate_chr(relevant_books, top_recommendations_cosine.index.tolist())\n",
        "chr_jac = calculate_chr(relevant_books, top_recommendations_jaccard.index.tolist())\n",
        "print(f\"CHR for cosine: {chr_cos}\")\n",
        "print(f\"CHR for jaccard: {chr_jac}\")"
      ]
    },
    {
      "cell_type": "markdown",
      "metadata": {},
      "source": [
        "Serendipity "
      ]
    },
    {
      "cell_type": "code",
      "execution_count": 142,
      "metadata": {
        "colab": {
          "base_uri": "https://localhost:8080/"
        },
        "id": "OhTPODa0KXSw",
        "outputId": "ace949ed-d398-46a8-fc06-818d5724b38f"
      },
      "outputs": [
        {
          "name": "stdout",
          "output_type": "stream",
          "text": [
            "Serendipity for cosine: 0.6666666666666666\n",
            "Serendipity for jaccard: 0.6666666666666666\n"
          ]
        }
      ],
      "source": [
        "def calculate_serendipity(recommended_books, relevant_books, user_interacted_books):\n",
        "    unexpected_books = [book for book in recommended_books if book not in user_interacted_books]\n",
        "    serendipitous_hits = [book for book in unexpected_books if book in relevant_books]\n",
        "    return len(serendipitous_hits) / len(recommended_books) if recommended_books else 0\n",
        "\n",
        "serendipity_cos = calculate_serendipity(top_recommendations_cosine.index.tolist(), relevant_books, user_interacted_books)\n",
        "serendipity_jac = calculate_serendipity(top_recommendations_jaccard.index.tolist(), relevant_books, user_interacted_books)\n",
        "print(f\"Serendipity for cosine: {serendipity_cos}\")\n",
        "print(f\"Serendipity for jaccard: {serendipity_jac}\")"
      ]
    },
    {
      "cell_type": "markdown",
      "metadata": {},
      "source": [
        "Diversity"
      ]
    },
    {
      "cell_type": "code",
      "execution_count": 143,
      "metadata": {
        "colab": {
          "base_uri": "https://localhost:8080/"
        },
        "id": "cRB7MHF-Ka8I",
        "outputId": "b7112ac1-18b6-4938-834b-ea99ffa12364"
      },
      "outputs": [
        {
          "name": "stdout",
          "output_type": "stream",
          "text": [
            "Diversity: 0.21028068784270326\n",
            "Diversity: 0.08574879227053145\n"
          ]
        }
      ],
      "source": [
        "def calculate_diversity(recommended_books, similarity_df):\n",
        "    similarities = []\n",
        "    for i, book_i in enumerate(recommended_books):\n",
        "        for j, book_j in enumerate(recommended_books):\n",
        "            if i < j:\n",
        "                similarities.append(similarity_df.loc[book_i, book_j])\n",
        "    return 1 - np.mean(similarities) if similarities else 0\n",
        "\n",
        "diversity_cos = calculate_diversity(top_recommendations_cosine.index.tolist(), cosine_similarity_df)\n",
        "diversity_jac = calculate_diversity(top_recommendations_jaccard.index.tolist(), jaccard_df)\n",
        "print(f\"Diversity: {diversity_cos}\")\n",
        "print(f\"Diversity: {diversity_jac}\")"
      ]
    },
    {
      "cell_type": "markdown",
      "metadata": {},
      "source": [
        "Coverage "
      ]
    },
    {
      "cell_type": "code",
      "execution_count": 144,
      "metadata": {
        "colab": {
          "base_uri": "https://localhost:8080/"
        },
        "id": "Ki1cm3beKfxa",
        "outputId": "7e234011-f12f-4e58-c329-aee3c0b4bd88"
      },
      "outputs": [
        {
          "name": "stdout",
          "output_type": "stream",
          "text": [
            "Coverage for cosine: 0.75\n",
            "Coverage for jaccard: 0.75\n"
          ]
        }
      ],
      "source": [
        "def calculate_coverage(recommended_books, catalog):\n",
        "    return len(set(recommended_books)) / len(catalog)\n",
        "\n",
        "catalog = pd.DataFrame({\n",
        "    \"Book\": [\"1984\", \"Animal Farm\", \"Blindness\", \"Brave New World\"],\n",
        "    \"Num_Ratings\": [4201429, 3575172, 265298, 159408] # like popularity\n",
        "})\n",
        "\n",
        "coverage_cos = calculate_coverage(top_recommendations_cosine.index.tolist(), catalog)\n",
        "coverage_jac = calculate_coverage(top_recommendations_jaccard.index.tolist(), catalog)\n",
        "print(f\"Coverage for cosine: {coverage_cos}\")\n",
        "print(f\"Coverage for jaccard: {coverage_jac}\")"
      ]
    },
    {
      "cell_type": "code",
      "execution_count": 145,
      "metadata": {
        "id": "XjSOCgPQMSN3"
      },
      "outputs": [],
      "source": [
        "# You can see freshness usage with churn above with 'generate_recommendations_with_freshness' function implementation"
      ]
    },
    {
      "cell_type": "markdown",
      "metadata": {
        "id": "_EplZtjKRPjK"
      },
      "source": [
        "***Elif İdil Ayata - 200201039***\\\n",
        "***Ömer Erdem Dilek - 200204036***\\\n",
        "***Muhammed Yasinhan Yaşar - 200201010***"
      ]
    }
  ],
  "metadata": {
    "colab": {
      "provenance": []
    },
    "kernelspec": {
      "display_name": "data-mining",
      "language": "python",
      "name": "python3"
    },
    "language_info": {
      "codemirror_mode": {
        "name": "ipython",
        "version": 3
      },
      "file_extension": ".py",
      "mimetype": "text/x-python",
      "name": "python",
      "nbconvert_exporter": "python",
      "pygments_lexer": "ipython3",
      "version": "3.11.4"
    }
  },
  "nbformat": 4,
  "nbformat_minor": 0
}
